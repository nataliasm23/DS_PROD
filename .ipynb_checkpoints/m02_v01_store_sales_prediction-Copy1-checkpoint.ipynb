{
 "cells": [
  {
   "cell_type": "markdown",
   "id": "e2e65c44",
   "metadata": {},
   "source": [
    "# Bussiness Issue\n",
    "\n",
    "Rossmann operates over 3,000 drug stores in 7 European countries. Currently, Rossmann store managers are tasked with predicting their daily sales for up to six weeks in advance. Store sales are influenced by many factors, including promotions, competition, school and state holidays, seasonality, and locality. With thousands of individual managers predicting sales based on their unique circumstances, the accuracy of results can be quite varied."
   ]
  },
  {
   "cell_type": "markdown",
   "id": "fa28a3f6",
   "metadata": {},
   "source": [
    "# 0.0 Imports"
   ]
  },
  {
   "cell_type": "markdown",
   "id": "27ea9f0c",
   "metadata": {},
   "source": [
    "## 0.1 Helper FUnctions"
   ]
  },
  {
   "cell_type": "markdown",
   "id": "87c6cd16",
   "metadata": {},
   "source": [
    "## 0.2 Loading data"
   ]
  },
  {
   "cell_type": "code",
   "execution_count": 66,
   "id": "9850297b",
   "metadata": {},
   "outputs": [],
   "source": [
    "import pandas as pd\n",
    "import inflection\n",
    "import math\n",
    "import seaborn as sns\n",
    "\n",
    "from matplotlib import pyplot as plt\n",
    "from IPython.core.display import HTML"
   ]
  },
  {
   "cell_type": "code",
   "execution_count": 37,
   "id": "05f61f31",
   "metadata": {},
   "outputs": [
    {
     "name": "stdout",
     "output_type": "stream",
     "text": [
      "Collecting seaborn\n",
      "  Using cached seaborn-0.11.2-py3-none-any.whl (292 kB)\n",
      "Requirement already satisfied: pandas>=0.23 in ./ds_em_producao/dsemprod/lib/python3.10/site-packages (from seaborn) (1.4.3)\n",
      "Requirement already satisfied: matplotlib>=2.2 in ./ds_em_producao/dsemprod/lib/python3.10/site-packages (from seaborn) (3.5.2)\n",
      "Requirement already satisfied: scipy>=1.0 in ./ds_em_producao/dsemprod/lib/python3.10/site-packages (from seaborn) (1.8.1)\n",
      "Requirement already satisfied: numpy>=1.15 in ./ds_em_producao/dsemprod/lib/python3.10/site-packages (from seaborn) (1.23.1)\n",
      "Requirement already satisfied: fonttools>=4.22.0 in ./ds_em_producao/dsemprod/lib/python3.10/site-packages (from matplotlib>=2.2->seaborn) (4.34.4)\n",
      "Requirement already satisfied: packaging>=20.0 in ./ds_em_producao/dsemprod/lib/python3.10/site-packages (from matplotlib>=2.2->seaborn) (21.3)\n",
      "Requirement already satisfied: cycler>=0.10 in ./ds_em_producao/dsemprod/lib/python3.10/site-packages (from matplotlib>=2.2->seaborn) (0.11.0)\n",
      "Requirement already satisfied: pyparsing>=2.2.1 in ./ds_em_producao/dsemprod/lib/python3.10/site-packages (from matplotlib>=2.2->seaborn) (3.0.9)\n",
      "Requirement already satisfied: python-dateutil>=2.7 in ./ds_em_producao/dsemprod/lib/python3.10/site-packages (from matplotlib>=2.2->seaborn) (2.8.2)\n",
      "Requirement already satisfied: pillow>=6.2.0 in ./ds_em_producao/dsemprod/lib/python3.10/site-packages (from matplotlib>=2.2->seaborn) (9.2.0)\n",
      "Requirement already satisfied: kiwisolver>=1.0.1 in ./ds_em_producao/dsemprod/lib/python3.10/site-packages (from matplotlib>=2.2->seaborn) (1.4.4)\n",
      "Requirement already satisfied: pytz>=2020.1 in ./ds_em_producao/dsemprod/lib/python3.10/site-packages (from pandas>=0.23->seaborn) (2022.1)\n",
      "Requirement already satisfied: six>=1.5 in ./ds_em_producao/dsemprod/lib/python3.10/site-packages (from python-dateutil>=2.7->matplotlib>=2.2->seaborn) (1.16.0)\n",
      "Installing collected packages: seaborn\n",
      "Successfully installed seaborn-0.11.2\n",
      "Note: you may need to restart the kernel to use updated packages.\n"
     ]
    }
   ],
   "source": [
    "%pip install seaborn"
   ]
  },
  {
   "cell_type": "code",
   "execution_count": 2,
   "id": "a95bd2e5",
   "metadata": {},
   "outputs": [],
   "source": [
    "df_train =pd.read_csv('rossmann-store-sales/train.csv',parse_dates=[2], low_memory= False)\n",
    "df_test =pd.read_csv('rossmann-store-sales/test.csv')\n",
    "df_store =pd.read_csv('rossmann-store-sales/store.csv')"
   ]
  },
  {
   "cell_type": "code",
   "execution_count": 3,
   "id": "5d2133ed",
   "metadata": {},
   "outputs": [],
   "source": [
    "#merge\n",
    "df_raw = pd.merge(df_train, df_store, how ='left', on ='Store')"
   ]
  },
  {
   "cell_type": "code",
   "execution_count": 4,
   "id": "35c6d2e9",
   "metadata": {},
   "outputs": [
    {
     "name": "stdout",
     "output_type": "stream",
     "text": [
      "<class 'pandas.core.frame.DataFrame'>\n",
      "Int64Index: 1017209 entries, 0 to 1017208\n",
      "Data columns (total 18 columns):\n",
      " #   Column                     Non-Null Count    Dtype         \n",
      "---  ------                     --------------    -----         \n",
      " 0   Store                      1017209 non-null  int64         \n",
      " 1   DayOfWeek                  1017209 non-null  int64         \n",
      " 2   Date                       1017209 non-null  datetime64[ns]\n",
      " 3   Sales                      1017209 non-null  int64         \n",
      " 4   Customers                  1017209 non-null  int64         \n",
      " 5   Open                       1017209 non-null  int64         \n",
      " 6   Promo                      1017209 non-null  int64         \n",
      " 7   StateHoliday               1017209 non-null  object        \n",
      " 8   SchoolHoliday              1017209 non-null  int64         \n",
      " 9   StoreType                  1017209 non-null  object        \n",
      " 10  Assortment                 1017209 non-null  object        \n",
      " 11  CompetitionDistance        1014567 non-null  float64       \n",
      " 12  CompetitionOpenSinceMonth  693861 non-null   float64       \n",
      " 13  CompetitionOpenSinceYear   693861 non-null   float64       \n",
      " 14  Promo2                     1017209 non-null  int64         \n",
      " 15  Promo2SinceWeek            509178 non-null   float64       \n",
      " 16  Promo2SinceYear            509178 non-null   float64       \n",
      " 17  PromoInterval              509178 non-null   object        \n",
      "dtypes: datetime64[ns](1), float64(5), int64(8), object(4)\n",
      "memory usage: 147.5+ MB\n"
     ]
    }
   ],
   "source": [
    "df_raw.info()"
   ]
  },
  {
   "cell_type": "code",
   "execution_count": 5,
   "id": "3702c9c4",
   "metadata": {},
   "outputs": [
    {
     "name": "stdout",
     "output_type": "stream",
     "text": [
      "<class 'pandas.core.frame.DataFrame'>\n",
      "RangeIndex: 1017209 entries, 0 to 1017208\n",
      "Data columns (total 9 columns):\n",
      " #   Column         Non-Null Count    Dtype         \n",
      "---  ------         --------------    -----         \n",
      " 0   Store          1017209 non-null  int64         \n",
      " 1   DayOfWeek      1017209 non-null  int64         \n",
      " 2   Date           1017209 non-null  datetime64[ns]\n",
      " 3   Sales          1017209 non-null  int64         \n",
      " 4   Customers      1017209 non-null  int64         \n",
      " 5   Open           1017209 non-null  int64         \n",
      " 6   Promo          1017209 non-null  int64         \n",
      " 7   StateHoliday   1017209 non-null  object        \n",
      " 8   SchoolHoliday  1017209 non-null  int64         \n",
      "dtypes: datetime64[ns](1), int64(7), object(1)\n",
      "memory usage: 69.8+ MB\n"
     ]
    }
   ],
   "source": [
    "df_train.info()"
   ]
  },
  {
   "cell_type": "markdown",
   "id": "14190151",
   "metadata": {},
   "source": [
    "# 1.0 Descriptions"
   ]
  },
  {
   "cell_type": "code",
   "execution_count": 6,
   "id": "a118fffa",
   "metadata": {},
   "outputs": [],
   "source": [
    "#Fazer um copia em cada sessão em caso de precisar da base inicial da sessao\n",
    "df1 = df_raw.copy()"
   ]
  },
  {
   "cell_type": "markdown",
   "id": "8d0d9897",
   "metadata": {},
   "source": [
    "## 1.1 Rename Columns"
   ]
  },
  {
   "cell_type": "code",
   "execution_count": 7,
   "id": "48df765e",
   "metadata": {},
   "outputs": [],
   "source": [
    "cols_old = df1.columns\n",
    "\n",
    "snakecase = lambda x : inflection.underscore(x)\n",
    "\n",
    "cols_new = list(map(snakecase, cols_old))\n",
    "\n",
    "df1.columns = cols_new\n"
   ]
  },
  {
   "cell_type": "markdown",
   "id": "c99d4f72",
   "metadata": {},
   "source": [
    "## 1.2 Data Dimensions /  Types / Check NA"
   ]
  },
  {
   "cell_type": "code",
   "execution_count": 8,
   "id": "3e61c439",
   "metadata": {},
   "outputs": [
    {
     "name": "stdout",
     "output_type": "stream",
     "text": [
      "<class 'pandas.core.frame.DataFrame'>\n",
      "Int64Index: 1017209 entries, 0 to 1017208\n",
      "Data columns (total 18 columns):\n",
      " #   Column                        Non-Null Count    Dtype         \n",
      "---  ------                        --------------    -----         \n",
      " 0   store                         1017209 non-null  int64         \n",
      " 1   day_of_week                   1017209 non-null  int64         \n",
      " 2   date                          1017209 non-null  datetime64[ns]\n",
      " 3   sales                         1017209 non-null  int64         \n",
      " 4   customers                     1017209 non-null  int64         \n",
      " 5   open                          1017209 non-null  int64         \n",
      " 6   promo                         1017209 non-null  int64         \n",
      " 7   state_holiday                 1017209 non-null  object        \n",
      " 8   school_holiday                1017209 non-null  int64         \n",
      " 9   store_type                    1017209 non-null  object        \n",
      " 10  assortment                    1017209 non-null  object        \n",
      " 11  competition_distance          1014567 non-null  float64       \n",
      " 12  competition_open_since_month  693861 non-null   float64       \n",
      " 13  competition_open_since_year   693861 non-null   float64       \n",
      " 14  promo2                        1017209 non-null  int64         \n",
      " 15  promo2_since_week             509178 non-null   float64       \n",
      " 16  promo2_since_year             509178 non-null   float64       \n",
      " 17  promo_interval                509178 non-null   object        \n",
      "dtypes: datetime64[ns](1), float64(5), int64(8), object(4)\n",
      "memory usage: 147.5+ MB\n"
     ]
    }
   ],
   "source": [
    "df1.info()"
   ]
  },
  {
   "cell_type": "markdown",
   "id": "2ac6ead9",
   "metadata": {},
   "source": [
    "## 1.3 Fillout NA\n",
    "opçẽos : 1 - excliur\n",
    "         2 - ML baseado no comportamento de NA, media, Regressao, etc\n",
    "         3 - pensando no negócio, o que faz sentido no contexto dos problemas"
   ]
  },
  {
   "cell_type": "code",
   "execution_count": 9,
   "id": "b9104239",
   "metadata": {},
   "outputs": [
    {
     "data": {
      "text/html": [
       "<div>\n",
       "<style scoped>\n",
       "    .dataframe tbody tr th:only-of-type {\n",
       "        vertical-align: middle;\n",
       "    }\n",
       "\n",
       "    .dataframe tbody tr th {\n",
       "        vertical-align: top;\n",
       "    }\n",
       "\n",
       "    .dataframe thead th {\n",
       "        text-align: right;\n",
       "    }\n",
       "</style>\n",
       "<table border=\"1\" class=\"dataframe\">\n",
       "  <thead>\n",
       "    <tr style=\"text-align: right;\">\n",
       "      <th></th>\n",
       "      <th>store</th>\n",
       "      <th>day_of_week</th>\n",
       "      <th>date</th>\n",
       "      <th>sales</th>\n",
       "      <th>customers</th>\n",
       "      <th>open</th>\n",
       "      <th>promo</th>\n",
       "      <th>state_holiday</th>\n",
       "      <th>school_holiday</th>\n",
       "      <th>store_type</th>\n",
       "      <th>assortment</th>\n",
       "      <th>competition_distance</th>\n",
       "      <th>competition_open_since_month</th>\n",
       "      <th>competition_open_since_year</th>\n",
       "      <th>promo2</th>\n",
       "      <th>promo2_since_week</th>\n",
       "      <th>promo2_since_year</th>\n",
       "      <th>promo_interval</th>\n",
       "    </tr>\n",
       "  </thead>\n",
       "  <tbody>\n",
       "    <tr>\n",
       "      <th>573850</th>\n",
       "      <td>411</td>\n",
       "      <td>7</td>\n",
       "      <td>2014-02-02</td>\n",
       "      <td>0</td>\n",
       "      <td>0</td>\n",
       "      <td>0</td>\n",
       "      <td>0</td>\n",
       "      <td>0</td>\n",
       "      <td>0</td>\n",
       "      <td>d</td>\n",
       "      <td>c</td>\n",
       "      <td>8460.0</td>\n",
       "      <td>NaN</td>\n",
       "      <td>NaN</td>\n",
       "      <td>0</td>\n",
       "      <td>NaN</td>\n",
       "      <td>NaN</td>\n",
       "      <td>NaN</td>\n",
       "    </tr>\n",
       "  </tbody>\n",
       "</table>\n",
       "</div>"
      ],
      "text/plain": [
       "        store  day_of_week       date  sales  customers  open  promo  \\\n",
       "573850    411            7 2014-02-02      0          0     0      0   \n",
       "\n",
       "       state_holiday  school_holiday store_type assortment  \\\n",
       "573850             0               0          d          c   \n",
       "\n",
       "        competition_distance  competition_open_since_month  \\\n",
       "573850                8460.0                           NaN   \n",
       "\n",
       "        competition_open_since_year  promo2  promo2_since_week  \\\n",
       "573850                          NaN       0                NaN   \n",
       "\n",
       "        promo2_since_year promo_interval  \n",
       "573850                NaN            NaN  "
      ]
     },
     "execution_count": 9,
     "metadata": {},
     "output_type": "execute_result"
    }
   ],
   "source": [
    "df1.sample()"
   ]
  },
  {
   "cell_type": "code",
   "execution_count": 10,
   "id": "697cc390",
   "metadata": {},
   "outputs": [],
   "source": [
    "#competition_distance          1014567 non-null  float64\n",
    "#df1.competition_distance.max() = 75860.0\n",
    "df1.competition_distance =  df1.competition_distance.apply(lambda x: 400000 if math.isnan(x) \n",
    "                                                            else x)\n"
   ]
  },
  {
   "cell_type": "code",
   "execution_count": 11,
   "id": "26ae5197",
   "metadata": {},
   "outputs": [],
   "source": [
    "#competition_open_since_month  693861 non-null   float64  \n",
    "df1.competition_open_since_month =  df1.apply(lambda x: x.date.month if math.isnan(x.competition_open_since_month)\n",
    "                                               else x.competition_open_since_month, axis =1 )\n",
    "     "
   ]
  },
  {
   "cell_type": "code",
   "execution_count": 12,
   "id": "480fe0c0",
   "metadata": {},
   "outputs": [],
   "source": [
    "#competition_open_since_year   693861 non-null   float64  \n",
    "\n",
    "df1.competition_open_since_year =  df1.apply(lambda x: x.date.year if math.isnan(x.competition_open_since_year)\n",
    "                                               else x.competition_open_since_year, axis =1 )"
   ]
  },
  {
   "cell_type": "code",
   "execution_count": 13,
   "id": "361893d7",
   "metadata": {},
   "outputs": [],
   "source": [
    "#promo2_since_week             509178 non-null   float64  \n",
    "df1.promo2_since_week =  df1.apply(lambda x: x.date.week if math.isnan(x.promo2_since_week)\n",
    "                                               else x.promo2_since_week, axis =1 )\n"
   ]
  },
  {
   "cell_type": "code",
   "execution_count": 14,
   "id": "47fbdb0d",
   "metadata": {},
   "outputs": [],
   "source": [
    "#promo2_since_year             509178 non-null   float64      \n",
    "df1.promo2_since_year =  df1.apply(lambda x: x.date.year if math.isnan(x.promo2_since_year)\n",
    "                                               else x.promo2_since_year, axis =1 )\n"
   ]
  },
  {
   "cell_type": "code",
   "execution_count": 15,
   "id": "2eed0646",
   "metadata": {},
   "outputs": [],
   "source": [
    "#promo_interval                509178 non-null   object   \n",
    "month_map = {1: 'Jan', \n",
    "             2: 'Feb', \n",
    "             3: 'Mar', \n",
    "             4: 'Apr', \n",
    "             5: 'May', \n",
    "             6: 'Jun', \n",
    "             7: 'Jul', \n",
    "             8: 'Aug', \n",
    "             9: 'Sept', \n",
    "             10: 'Oct',\n",
    "             11: 'Nov', \n",
    "             12: 'Dec'}\n",
    "\n",
    "df1.promo_interval.fillna(0, inplace = True)\n",
    "\n",
    "df1['month_map'] = df1.date.dt.month.map(month_map)\n",
    "\n",
    "df1['is_promo'] = df1[['promo_interval', 'month_map']].apply( lambda x: 0 if x['promo_interval'] == 0 else 1 \n",
    "                                                             if x['month_map'] in x['promo_interval'].split( ',' ) else 0, axis=1 )"
   ]
  },
  {
   "cell_type": "code",
   "execution_count": 16,
   "id": "125e6f5c",
   "metadata": {},
   "outputs": [
    {
     "data": {
      "text/html": [
       "<div>\n",
       "<style scoped>\n",
       "    .dataframe tbody tr th:only-of-type {\n",
       "        vertical-align: middle;\n",
       "    }\n",
       "\n",
       "    .dataframe tbody tr th {\n",
       "        vertical-align: top;\n",
       "    }\n",
       "\n",
       "    .dataframe thead th {\n",
       "        text-align: right;\n",
       "    }\n",
       "</style>\n",
       "<table border=\"1\" class=\"dataframe\">\n",
       "  <thead>\n",
       "    <tr style=\"text-align: right;\">\n",
       "      <th></th>\n",
       "      <th>597706</th>\n",
       "      <th>415756</th>\n",
       "      <th>788526</th>\n",
       "      <th>229868</th>\n",
       "      <th>206699</th>\n",
       "    </tr>\n",
       "  </thead>\n",
       "  <tbody>\n",
       "    <tr>\n",
       "      <th>store</th>\n",
       "      <td>852</td>\n",
       "      <td>647</td>\n",
       "      <td>1007</td>\n",
       "      <td>179</td>\n",
       "      <td>425</td>\n",
       "    </tr>\n",
       "    <tr>\n",
       "      <th>day_of_week</th>\n",
       "      <td>7</td>\n",
       "      <td>2</td>\n",
       "      <td>4</td>\n",
       "      <td>2</td>\n",
       "      <td>2</td>\n",
       "    </tr>\n",
       "    <tr>\n",
       "      <th>date</th>\n",
       "      <td>2014-01-12 00:00:00</td>\n",
       "      <td>2014-06-24 00:00:00</td>\n",
       "      <td>2013-07-25 00:00:00</td>\n",
       "      <td>2015-01-06 00:00:00</td>\n",
       "      <td>2015-01-27 00:00:00</td>\n",
       "    </tr>\n",
       "    <tr>\n",
       "      <th>sales</th>\n",
       "      <td>0</td>\n",
       "      <td>3957</td>\n",
       "      <td>4678</td>\n",
       "      <td>9498</td>\n",
       "      <td>3705</td>\n",
       "    </tr>\n",
       "    <tr>\n",
       "      <th>customers</th>\n",
       "      <td>0</td>\n",
       "      <td>534</td>\n",
       "      <td>605</td>\n",
       "      <td>1214</td>\n",
       "      <td>478</td>\n",
       "    </tr>\n",
       "    <tr>\n",
       "      <th>open</th>\n",
       "      <td>0</td>\n",
       "      <td>1</td>\n",
       "      <td>1</td>\n",
       "      <td>1</td>\n",
       "      <td>1</td>\n",
       "    </tr>\n",
       "    <tr>\n",
       "      <th>promo</th>\n",
       "      <td>0</td>\n",
       "      <td>0</td>\n",
       "      <td>0</td>\n",
       "      <td>1</td>\n",
       "      <td>1</td>\n",
       "    </tr>\n",
       "    <tr>\n",
       "      <th>state_holiday</th>\n",
       "      <td>0</td>\n",
       "      <td>0</td>\n",
       "      <td>0</td>\n",
       "      <td>0</td>\n",
       "      <td>0</td>\n",
       "    </tr>\n",
       "    <tr>\n",
       "      <th>school_holiday</th>\n",
       "      <td>0</td>\n",
       "      <td>0</td>\n",
       "      <td>1</td>\n",
       "      <td>1</td>\n",
       "      <td>0</td>\n",
       "    </tr>\n",
       "    <tr>\n",
       "      <th>store_type</th>\n",
       "      <td>c</td>\n",
       "      <td>a</td>\n",
       "      <td>c</td>\n",
       "      <td>a</td>\n",
       "      <td>d</td>\n",
       "    </tr>\n",
       "    <tr>\n",
       "      <th>assortment</th>\n",
       "      <td>a</td>\n",
       "      <td>c</td>\n",
       "      <td>c</td>\n",
       "      <td>c</td>\n",
       "      <td>c</td>\n",
       "    </tr>\n",
       "    <tr>\n",
       "      <th>competition_distance</th>\n",
       "      <td>940.0</td>\n",
       "      <td>7420.0</td>\n",
       "      <td>4180.0</td>\n",
       "      <td>480.0</td>\n",
       "      <td>1460.0</td>\n",
       "    </tr>\n",
       "    <tr>\n",
       "      <th>competition_open_since_month</th>\n",
       "      <td>4.0</td>\n",
       "      <td>4.0</td>\n",
       "      <td>9.0</td>\n",
       "      <td>1.0</td>\n",
       "      <td>1.0</td>\n",
       "    </tr>\n",
       "    <tr>\n",
       "      <th>competition_open_since_year</th>\n",
       "      <td>2004.0</td>\n",
       "      <td>2013.0</td>\n",
       "      <td>2012.0</td>\n",
       "      <td>2015.0</td>\n",
       "      <td>2015.0</td>\n",
       "    </tr>\n",
       "    <tr>\n",
       "      <th>promo2</th>\n",
       "      <td>1</td>\n",
       "      <td>0</td>\n",
       "      <td>0</td>\n",
       "      <td>0</td>\n",
       "      <td>0</td>\n",
       "    </tr>\n",
       "    <tr>\n",
       "      <th>promo2_since_week</th>\n",
       "      <td>14.0</td>\n",
       "      <td>26.0</td>\n",
       "      <td>30.0</td>\n",
       "      <td>2.0</td>\n",
       "      <td>5.0</td>\n",
       "    </tr>\n",
       "    <tr>\n",
       "      <th>promo2_since_year</th>\n",
       "      <td>2011.0</td>\n",
       "      <td>2014.0</td>\n",
       "      <td>2013.0</td>\n",
       "      <td>2015.0</td>\n",
       "      <td>2015.0</td>\n",
       "    </tr>\n",
       "    <tr>\n",
       "      <th>promo_interval</th>\n",
       "      <td>Jan,Apr,Jul,Oct</td>\n",
       "      <td>0</td>\n",
       "      <td>0</td>\n",
       "      <td>0</td>\n",
       "      <td>0</td>\n",
       "    </tr>\n",
       "    <tr>\n",
       "      <th>month_map</th>\n",
       "      <td>Jan</td>\n",
       "      <td>Jun</td>\n",
       "      <td>Jul</td>\n",
       "      <td>Jan</td>\n",
       "      <td>Jan</td>\n",
       "    </tr>\n",
       "    <tr>\n",
       "      <th>is_promo</th>\n",
       "      <td>1</td>\n",
       "      <td>0</td>\n",
       "      <td>0</td>\n",
       "      <td>0</td>\n",
       "      <td>0</td>\n",
       "    </tr>\n",
       "  </tbody>\n",
       "</table>\n",
       "</div>"
      ],
      "text/plain": [
       "                                           597706               415756  \\\n",
       "store                                         852                  647   \n",
       "day_of_week                                     7                    2   \n",
       "date                          2014-01-12 00:00:00  2014-06-24 00:00:00   \n",
       "sales                                           0                 3957   \n",
       "customers                                       0                  534   \n",
       "open                                            0                    1   \n",
       "promo                                           0                    0   \n",
       "state_holiday                                   0                    0   \n",
       "school_holiday                                  0                    0   \n",
       "store_type                                      c                    a   \n",
       "assortment                                      a                    c   \n",
       "competition_distance                        940.0               7420.0   \n",
       "competition_open_since_month                  4.0                  4.0   \n",
       "competition_open_since_year                2004.0               2013.0   \n",
       "promo2                                          1                    0   \n",
       "promo2_since_week                            14.0                 26.0   \n",
       "promo2_since_year                          2011.0               2014.0   \n",
       "promo_interval                    Jan,Apr,Jul,Oct                    0   \n",
       "month_map                                     Jan                  Jun   \n",
       "is_promo                                        1                    0   \n",
       "\n",
       "                                           788526               229868  \\\n",
       "store                                        1007                  179   \n",
       "day_of_week                                     4                    2   \n",
       "date                          2013-07-25 00:00:00  2015-01-06 00:00:00   \n",
       "sales                                        4678                 9498   \n",
       "customers                                     605                 1214   \n",
       "open                                            1                    1   \n",
       "promo                                           0                    1   \n",
       "state_holiday                                   0                    0   \n",
       "school_holiday                                  1                    1   \n",
       "store_type                                      c                    a   \n",
       "assortment                                      c                    c   \n",
       "competition_distance                       4180.0                480.0   \n",
       "competition_open_since_month                  9.0                  1.0   \n",
       "competition_open_since_year                2012.0               2015.0   \n",
       "promo2                                          0                    0   \n",
       "promo2_since_week                            30.0                  2.0   \n",
       "promo2_since_year                          2013.0               2015.0   \n",
       "promo_interval                                  0                    0   \n",
       "month_map                                     Jul                  Jan   \n",
       "is_promo                                        0                    0   \n",
       "\n",
       "                                           206699  \n",
       "store                                         425  \n",
       "day_of_week                                     2  \n",
       "date                          2015-01-27 00:00:00  \n",
       "sales                                        3705  \n",
       "customers                                     478  \n",
       "open                                            1  \n",
       "promo                                           1  \n",
       "state_holiday                                   0  \n",
       "school_holiday                                  0  \n",
       "store_type                                      d  \n",
       "assortment                                      c  \n",
       "competition_distance                       1460.0  \n",
       "competition_open_since_month                  1.0  \n",
       "competition_open_since_year                2015.0  \n",
       "promo2                                          0  \n",
       "promo2_since_week                             5.0  \n",
       "promo2_since_year                          2015.0  \n",
       "promo_interval                                  0  \n",
       "month_map                                     Jan  \n",
       "is_promo                                        0  "
      ]
     },
     "execution_count": 16,
     "metadata": {},
     "output_type": "execute_result"
    }
   ],
   "source": [
    "df1.sample(5).T"
   ]
  },
  {
   "cell_type": "code",
   "execution_count": 17,
   "id": "06ef1bce",
   "metadata": {},
   "outputs": [
    {
     "name": "stdout",
     "output_type": "stream",
     "text": [
      "<class 'pandas.core.frame.DataFrame'>\n",
      "Int64Index: 1017209 entries, 0 to 1017208\n",
      "Data columns (total 20 columns):\n",
      " #   Column                        Non-Null Count    Dtype         \n",
      "---  ------                        --------------    -----         \n",
      " 0   store                         1017209 non-null  int64         \n",
      " 1   day_of_week                   1017209 non-null  int64         \n",
      " 2   date                          1017209 non-null  datetime64[ns]\n",
      " 3   sales                         1017209 non-null  int64         \n",
      " 4   customers                     1017209 non-null  int64         \n",
      " 5   open                          1017209 non-null  int64         \n",
      " 6   promo                         1017209 non-null  int64         \n",
      " 7   state_holiday                 1017209 non-null  object        \n",
      " 8   school_holiday                1017209 non-null  int64         \n",
      " 9   store_type                    1017209 non-null  object        \n",
      " 10  assortment                    1017209 non-null  object        \n",
      " 11  competition_distance          1017209 non-null  float64       \n",
      " 12  competition_open_since_month  1017209 non-null  float64       \n",
      " 13  competition_open_since_year   1017209 non-null  float64       \n",
      " 14  promo2                        1017209 non-null  int64         \n",
      " 15  promo2_since_week             1017209 non-null  float64       \n",
      " 16  promo2_since_year             1017209 non-null  float64       \n",
      " 17  promo_interval                1017209 non-null  object        \n",
      " 18  month_map                     1017209 non-null  object        \n",
      " 19  is_promo                      1017209 non-null  int64         \n",
      "dtypes: datetime64[ns](1), float64(5), int64(9), object(5)\n",
      "memory usage: 163.0+ MB\n"
     ]
    }
   ],
   "source": [
    "df1.info()"
   ]
  },
  {
   "cell_type": "markdown",
   "id": "79cffe63",
   "metadata": {},
   "source": [
    "## 1.4 Change Types\n"
   ]
  },
  {
   "cell_type": "code",
   "execution_count": 18,
   "id": "a9144679",
   "metadata": {},
   "outputs": [],
   "source": [
    "df1.competition_open_since_month =df1.competition_open_since_month.astype(int)\n",
    "df1.competition_open_since_year =df1.competition_open_since_year.astype(int)\n",
    "\n",
    "df1.promo2_since_week =df1.promo2_since_week.astype(int)\n",
    "df1.promo2_since_year =df1.promo2_since_year.astype(int)"
   ]
  },
  {
   "cell_type": "markdown",
   "id": "c7b23784",
   "metadata": {},
   "source": [
    "## 1.5 Descriptive Statistical\n",
    "\n"
   ]
  },
  {
   "cell_type": "code",
   "execution_count": 28,
   "id": "4cf0a5ce",
   "metadata": {},
   "outputs": [],
   "source": [
    "num_attributes = df1.select_dtypes(include = ['int64', 'float64'])\n",
    "cat_attributes = df1.select_dtypes(exclude = ['int64', 'float64','datetime64[ns]'])"
   ]
  },
  {
   "cell_type": "markdown",
   "id": "527b0942",
   "metadata": {},
   "source": [
    "### NUMERICAL DATA\n",
    "df1.describe()"
   ]
  },
  {
   "cell_type": "code",
   "execution_count": 35,
   "id": "b4933d9e",
   "metadata": {},
   "outputs": [
    {
     "data": {
      "text/plain": [
       "(store                           -0.000955\n",
       " day_of_week                      0.001593\n",
       " sales                            0.641460\n",
       " customers                        1.598650\n",
       " open                            -1.758045\n",
       " promo                            0.487838\n",
       " school_holiday                   1.677842\n",
       " competition_distance            16.023065\n",
       " competition_open_since_month    -0.042076\n",
       " competition_open_since_year     -7.235657\n",
       " promo2                          -0.002255\n",
       " promo2_since_week                0.178723\n",
       " promo2_since_year               -0.784436\n",
       " is_promo                         1.739838\n",
       " dtype: float64,\n",
       " store                            -1.200524\n",
       " day_of_week                      -1.246873\n",
       " sales                             1.778375\n",
       " customers                         7.091773\n",
       " open                              1.090723\n",
       " promo                            -1.762018\n",
       " school_holiday                    0.815154\n",
       " competition_distance            288.268177\n",
       " competition_open_since_month     -1.232607\n",
       " competition_open_since_year     124.071304\n",
       " promo2                           -1.999999\n",
       " promo2_since_week                -1.184046\n",
       " promo2_since_year                -0.210075\n",
       " is_promo                          1.027039\n",
       " dtype: float64)"
      ]
     },
     "execution_count": 35,
     "metadata": {},
     "output_type": "execute_result"
    }
   ],
   "source": [
    "num_attributes.skew(), num_attributes.kurtosis()"
   ]
  },
  {
   "cell_type": "code",
   "execution_count": 64,
   "id": "f632b943",
   "metadata": {},
   "outputs": [
    {
     "name": "stderr",
     "output_type": "stream",
     "text": [
      "/home/natalia-mesquita/Desktop/repos/01.ds_em_prod/ds_em_producao/dsemprod/lib/python3.10/site-packages/seaborn/distributions.py:2619: FutureWarning: `distplot` is a deprecated function and will be removed in a future version. Please adapt your code to use either `displot` (a figure-level function with similar flexibility) or `histplot` (an axes-level function for histograms).\n",
      "  warnings.warn(msg, FutureWarning)\n"
     ]
    },
    {
     "data": {
      "text/plain": [
       "<AxesSubplot:xlabel='competition_distance', ylabel='Density'>"
      ]
     },
     "execution_count": 64,
     "metadata": {},
     "output_type": "execute_result"
    },
    {
     "data": {
      "image/png": "[encoded data removed]",
      "text/plain": [
       "<Figure size 640x480 with 1 Axes>"
      ]
     },
     "metadata": {},
     "output_type": "display_data"
    }
   ],
   "source": [
    "#poisson skew alta e kurtosis alta\n",
    "sns.distplot(df1.competition_distance)"
   ]
  },
  {
   "cell_type": "code",
   "execution_count": 52,
   "id": "9ec615c2",
   "metadata": {},
   "outputs": [
    {
     "name": "stderr",
     "output_type": "stream",
     "text": [
      "/home/natalia-mesquita/Desktop/repos/01.ds_em_prod/ds_em_producao/dsemprod/lib/python3.10/site-packages/seaborn/distributions.py:2619: FutureWarning: `distplot` is a deprecated function and will be removed in a future version. Please adapt your code to use either `displot` (a figure-level function with similar flexibility) or `histplot` (an axes-level function for histograms).\n",
      "  warnings.warn(msg, FutureWarning)\n"
     ]
    },
    {
     "data": {
      "text/plain": [
       "<AxesSubplot:xlabel='promo2_since_week', ylabel='Density'>"
      ]
     },
     "execution_count": 52,
     "metadata": {},
     "output_type": "execute_result"
    },
    {
     "data": {
      "image/png": "[encoded data removed]",
      "text/plain": [
       "<Figure size 640x480 with 1 Axes>"
      ]
     },
     "metadata": {},
     "output_type": "display_data"
    }
   ],
   "source": [
    "#poisson skew alta e kurtosis alta\n",
    "sns.distplot(df1.promo2_since_week)"
   ]
  },
  {
   "cell_type": "markdown",
   "id": "75025871",
   "metadata": {},
   "source": [
    "### Categorical descriotion is BOXPLOT\n"
   ]
  },
  {
   "cell_type": "code",
   "execution_count": 45,
   "id": "4ea585dc",
   "metadata": {},
   "outputs": [
    {
     "data": {
      "text/plain": [
       "state_holiday      4\n",
       "store_type         4\n",
       "assortment         3\n",
       "promo_interval     4\n",
       "month_map         12\n",
       "dtype: int64"
      ]
     },
     "execution_count": 45,
     "metadata": {},
     "output_type": "execute_result"
    }
   ],
   "source": [
    "cat_attributes.apply(lambda x:x.unique().shape[0])"
   ]
  },
  {
   "cell_type": "code",
   "execution_count": 70,
   "id": "45d0e956",
   "metadata": {},
   "outputs": [
    {
     "data": {
      "image/png": "[encoded data removed]",
      "text/plain": [
       "<Figure size 640x480 with 3 Axes>"
      ]
     },
     "metadata": {},
     "output_type": "display_data"
    }
   ],
   "source": [
    "\n",
    "aux1=df1[(df1.state_holiday != 0)&(df1.sales>0)]\n",
    "\n",
    "plt.subplot(1,3,1)\n",
    "sns.boxplot(x = aux1.state_holiday, y= aux1.sales);\n",
    "\n",
    "plt.subplot(1,3,2)\n",
    "sns.boxplot(x = aux1.store_type, y= aux1.sales);\n",
    "\n",
    "plt.subplot(1,3,3)\n",
    "sns.boxplot(x = aux1.assortment, y= aux1.sales);"
   ]
  },
  {
   "cell_type": "markdown",
   "id": "1b2ef5ed",
   "metadata": {},
   "source": [
    "# Mental Hipotesys map\n",
    "\n",
    "Fenomenos\n",
    "ex: vendas\n",
    "\n",
    "Agentes\n",
    "ex: lojas, preço, clientes\n",
    "\n",
    "Atributos\n",
    "ex:cada agente tes caracteristicas lojas tme tamanho, localização, etc\n",
    "\n",
    "Lista de Hipotese:\n",
    "Surpresa ou Contra Intuição"
   ]
  }
 ],
 "metadata": {
  "kernelspec": {
   "display_name": "dsemprod",
   "language": "python",
   "name": "dsemprod"
  },
  "language_info": {
   "codemirror_mode": {
    "name": "ipython",
    "version": 3
   },
   "file_extension": ".py",
   "mimetype": "text/x-python",
   "name": "python",
   "nbconvert_exporter": "python",
   "pygments_lexer": "ipython3",
   "version": "3.10.4"
  }
 },
 "nbformat": 4,
 "nbformat_minor": 5
}
